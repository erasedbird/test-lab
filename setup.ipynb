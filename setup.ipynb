{
 "cells": [
  {
   "cell_type": "code",
   "execution_count": 2,
   "metadata": {},
   "outputs": [
    {
     "name": "stdout",
     "output_type": "stream",
     "text": [
      "{'commit_hash': '4e1d3e557',\n",
      " 'commit_source': 'installation',\n",
      " 'default_encoding': 'utf-8',\n",
      " 'ipython_path': '/Users/ruth/opt/anaconda3/envs/itsc24-RR-tutorial/lib/python3.8/site-packages/IPython',\n",
      " 'ipython_version': '8.12.3',\n",
      " 'os_name': 'posix',\n",
      " 'platform': 'macOS-10.16-x86_64-i386-64bit',\n",
      " 'sys_executable': '/Users/ruth/opt/anaconda3/envs/itsc24-RR-tutorial/bin/python',\n",
      " 'sys_platform': 'darwin',\n",
      " 'sys_version': '3.8.0 (default, Nov  6 2019, 15:49:01) \\n'\n",
      "                '[Clang 4.0.1 (tags/RELEASE_401/final)]'}\n",
      "INFO: Successfully saved requirements file in requirements-imports.txt\n"
     ]
    }
   ],
   "source": [
    "import IPython\n",
    "\n",
    "# print system information (but not packages)\n",
    "print(IPython.sys_info())\n",
    "\n",
    "# get module information\n",
    "!pipreqs . --force --savepath requirements-imports.txt\n",
    "!pip3 freeze > requirements-all-dependencies.txt\n",
    "\n",
    "# append system information to file\n",
    "with open(\"python-info.txt\", \"w\") as file:\n",
    "\tfile.write(IPython.sys_info())\n"
   ]
  },
  {
   "cell_type": "code",
   "execution_count": null,
   "metadata": {},
   "outputs": [],
   "source": []
  }
 ],
 "metadata": {
  "kernelspec": {
   "display_name": "itsc24-RR-tutorial",
   "language": "python",
   "name": "python3"
  },
  "language_info": {
   "codemirror_mode": {
    "name": "ipython",
    "version": 3
   },
   "file_extension": ".py",
   "mimetype": "text/x-python",
   "name": "python",
   "nbconvert_exporter": "python",
   "pygments_lexer": "ipython3",
   "version": "3.8.0"
  }
 },
 "nbformat": 4,
 "nbformat_minor": 2
}
